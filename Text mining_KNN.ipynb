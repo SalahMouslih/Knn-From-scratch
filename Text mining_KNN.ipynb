{
 "cells": [
  {
   "cell_type": "markdown",
   "metadata": {},
   "source": [
    "## Examen text mining 2021\n",
    "##### Nom: \n",
    "EL Mouslih salah eddine\n",
    "##### Filière : \n",
    "DS-E"
   ]
  },
  {
   "cell_type": "markdown",
   "metadata": {},
   "source": [
    "#### Q.1"
   ]
  },
  {
   "cell_type": "code",
   "execution_count": 603,
   "metadata": {},
   "outputs": [],
   "source": [
    "Textes=[[\"Antoine Griezmann scored twice as France beat Finland in their 2022 World Cup qualifier \",\"sport\"],\n",
    "       [\"Haaland scores hat-trick in Norway win\",\"sport\"],\n",
    "       [\"A comfortable win over Azerbaijan moved Morocco to the top of Group A\",\"sport\"],\n",
    "       [\"World Cup qualifying has been seriously affected by the coronavirus pandemic\",\"sport\"],\n",
    "       [\"Memphis Depay hat trick vs. Turkey puts Dutch top of World Cup qualifying group G\",\"sport\"],\n",
    "        \n",
    "        [\"General Elections: Turnout Reaches 75% in Morocco’s Southern Provinces \",\"politics\"],\n",
    "       [\"Guinea is in the midst of a rocky political transition after the country’s first democratically elected leader was deposed in a swift military coup.\",\"politics\"],\n",
    "       [\"Morocco, Spain Team Up to Arrest Terror Suspect in Tangier\",\"politics\"],\n",
    "       [\"Several countries and organizations expressed regret over Algeria's decision to cut political relations with Morocco.\",\"politics\"],\n",
    "       [\"Personal Data Use In Moroccan Election Campaigns Raises Concerns\",\"politics\"],\n",
    "        \n",
    "        [\"Royal Air Maroc Cancels Flights Between Morocco and Italy\",\"economy\"],\n",
    "       [\"Ministry of Industry Approves New Company to Monitor Imports\",\"economy\"],\n",
    "       [\"Branson, tech entrepreneur and founder of the Virgin Group, visited Dakhla after a trip to Marrakech\",\"economy\"],\n",
    "       [\"IFC, BMCE Bank UK Team Up to Promote African Transnational Trade\",\"economy\"],\n",
    "       [\"Morocco, Stellantis Sign Amendment to Reactivate Cooperation in Automotive Industry\",\"economy\"]]\n"
   ]
  },
  {
   "cell_type": "code",
   "execution_count": 604,
   "metadata": {},
   "outputs": [
    {
     "data": {
      "text/plain": [
       "'expressed'"
      ]
     },
     "execution_count": 604,
     "metadata": {},
     "output_type": "execute_result"
    }
   ],
   "source": [
    "Textes[8][0].split()[4]"
   ]
  },
  {
   "cell_type": "markdown",
   "metadata": {},
   "source": [
    "#### Q.2"
   ]
  },
  {
   "cell_type": "code",
   "execution_count": 605,
   "metadata": {},
   "outputs": [],
   "source": [
    "def split_texte(T):\n",
    "    L=[]\n",
    "    for i in range(len(T)):\n",
    "        for j in range(len(T[i][0].split())):\n",
    "            if not T[i][0].split()[j] in L:\n",
    "                L.append(T[i][0].split()[j])\n",
    "    return L\n",
    "\n",
    "# L=[T[i][0].split()[j] for j in range(len(T[i][0].split())) if not T[i][0].split()[j] in L]:"
   ]
  },
  {
   "cell_type": "code",
   "execution_count": 630,
   "metadata": {},
   "outputs": [
    {
     "data": {
      "text/plain": [
       "['Antoine',\n",
       " 'Griezmann',\n",
       " 'scored',\n",
       " 'twice',\n",
       " 'as',\n",
       " 'France',\n",
       " 'beat',\n",
       " 'Finland',\n",
       " 'in',\n",
       " 'their',\n",
       " '2022',\n",
       " 'World',\n",
       " 'Cup',\n",
       " 'qualifier',\n",
       " 'Haaland',\n",
       " 'scores',\n",
       " 'hat-trick',\n",
       " 'Norway',\n",
       " 'win',\n",
       " 'A',\n",
       " 'comfortable',\n",
       " 'over',\n",
       " 'Azerbaijan',\n",
       " 'moved',\n",
       " 'Morocco',\n",
       " 'to',\n",
       " 'the',\n",
       " 'top',\n",
       " 'of',\n",
       " 'Group',\n",
       " 'qualifying',\n",
       " 'has',\n",
       " 'been',\n",
       " 'seriously',\n",
       " 'affected',\n",
       " 'by',\n",
       " 'coronavirus',\n",
       " 'pandemic',\n",
       " 'Memphis',\n",
       " 'Depay',\n",
       " 'hat',\n",
       " 'trick',\n",
       " 'vs.',\n",
       " 'Turkey',\n",
       " 'puts',\n",
       " 'Dutch',\n",
       " 'group',\n",
       " 'G',\n",
       " 'General',\n",
       " 'Elections:',\n",
       " 'Turnout',\n",
       " 'Reaches',\n",
       " '75%',\n",
       " 'Morocco’s',\n",
       " 'Southern',\n",
       " 'Provinces',\n",
       " 'Guinea',\n",
       " 'is',\n",
       " 'midst',\n",
       " 'a',\n",
       " 'rocky',\n",
       " 'political',\n",
       " 'transition',\n",
       " 'after',\n",
       " 'country’s',\n",
       " 'first',\n",
       " 'democratically',\n",
       " 'elected',\n",
       " 'leader',\n",
       " 'was',\n",
       " 'deposed',\n",
       " 'swift',\n",
       " 'military',\n",
       " 'coup.',\n",
       " 'Morocco,',\n",
       " 'Spain',\n",
       " 'Team',\n",
       " 'Up',\n",
       " 'Arrest',\n",
       " 'Terror',\n",
       " 'Suspect',\n",
       " 'Tangier',\n",
       " 'Several',\n",
       " 'countries',\n",
       " 'and',\n",
       " 'organizations',\n",
       " 'expressed',\n",
       " 'regret',\n",
       " \"Algeria's\",\n",
       " 'decision',\n",
       " 'cut',\n",
       " 'relations',\n",
       " 'with',\n",
       " 'Morocco.',\n",
       " 'Personal',\n",
       " 'Data',\n",
       " 'Use',\n",
       " 'In',\n",
       " 'Moroccan',\n",
       " 'Election',\n",
       " 'Campaigns',\n",
       " 'Raises',\n",
       " 'Concerns',\n",
       " 'Royal',\n",
       " 'Air',\n",
       " 'Maroc',\n",
       " 'Cancels',\n",
       " 'Flights',\n",
       " 'Between',\n",
       " 'Italy',\n",
       " 'Ministry',\n",
       " 'Industry',\n",
       " 'Approves',\n",
       " 'New',\n",
       " 'Company',\n",
       " 'Monitor',\n",
       " 'Imports',\n",
       " 'Branson,',\n",
       " 'tech',\n",
       " 'entrepreneur',\n",
       " 'founder',\n",
       " 'Virgin',\n",
       " 'Group,',\n",
       " 'visited',\n",
       " 'Dakhla',\n",
       " 'trip',\n",
       " 'Marrakech',\n",
       " 'IFC,',\n",
       " 'BMCE',\n",
       " 'Bank',\n",
       " 'UK',\n",
       " 'Promote',\n",
       " 'African',\n",
       " 'Transnational',\n",
       " 'Trade',\n",
       " 'Stellantis',\n",
       " 'Sign',\n",
       " 'Amendment',\n",
       " 'Reactivate',\n",
       " 'Cooperation',\n",
       " 'Automotive']"
      ]
     },
     "execution_count": 630,
     "metadata": {},
     "output_type": "execute_result"
    }
   ],
   "source": [
    "L = split_texte(Textes)\n",
    "L"
   ]
  },
  {
   "cell_type": "markdown",
   "metadata": {},
   "source": [
    "#### Q.3"
   ]
  },
  {
   "cell_type": "code",
   "execution_count": 607,
   "metadata": {},
   "outputs": [],
   "source": [
    "def t2v(T,L):\n",
    "    V=[]\n",
    "    S = T.split()\n",
    "    for j in range(len(L)):\n",
    "        exists=0\n",
    "        for i in range(len(S)):\n",
    "            if S[i]==L[j]:\n",
    "                exists=exists+1\n",
    "        V.append(exists)    \n",
    "    return V"
   ]
  },
  {
   "cell_type": "code",
   "execution_count": 608,
   "metadata": {},
   "outputs": [
    {
     "data": {
      "text/plain": [
       "[0,\n",
       " 0,\n",
       " 0,\n",
       " 0,\n",
       " 0,\n",
       " 0,\n",
       " 0,\n",
       " 0,\n",
       " 1,\n",
       " 0,\n",
       " 0,\n",
       " 0,\n",
       " 0,\n",
       " 0,\n",
       " 1,\n",
       " 1,\n",
       " 1,\n",
       " 1,\n",
       " 1,\n",
       " 0,\n",
       " 0,\n",
       " 0,\n",
       " 0,\n",
       " 0,\n",
       " 0,\n",
       " 0,\n",
       " 0,\n",
       " 0,\n",
       " 0,\n",
       " 0,\n",
       " 0,\n",
       " 0,\n",
       " 0,\n",
       " 0,\n",
       " 0,\n",
       " 0,\n",
       " 0,\n",
       " 0,\n",
       " 0,\n",
       " 0,\n",
       " 0,\n",
       " 0,\n",
       " 0,\n",
       " 0,\n",
       " 0,\n",
       " 0,\n",
       " 0,\n",
       " 0,\n",
       " 0,\n",
       " 0,\n",
       " 0,\n",
       " 0,\n",
       " 0,\n",
       " 0,\n",
       " 0,\n",
       " 0,\n",
       " 0,\n",
       " 0,\n",
       " 0,\n",
       " 0,\n",
       " 0,\n",
       " 0,\n",
       " 0,\n",
       " 0,\n",
       " 0,\n",
       " 0,\n",
       " 0,\n",
       " 0,\n",
       " 0,\n",
       " 0,\n",
       " 0,\n",
       " 0,\n",
       " 0,\n",
       " 0,\n",
       " 0,\n",
       " 0,\n",
       " 0,\n",
       " 0,\n",
       " 0,\n",
       " 0,\n",
       " 0,\n",
       " 0,\n",
       " 0,\n",
       " 0,\n",
       " 0,\n",
       " 0,\n",
       " 0,\n",
       " 0,\n",
       " 0,\n",
       " 0,\n",
       " 0,\n",
       " 0,\n",
       " 0,\n",
       " 0,\n",
       " 0,\n",
       " 0,\n",
       " 0,\n",
       " 0,\n",
       " 0,\n",
       " 0,\n",
       " 0,\n",
       " 0,\n",
       " 0,\n",
       " 0,\n",
       " 0,\n",
       " 0,\n",
       " 0,\n",
       " 0,\n",
       " 0,\n",
       " 0,\n",
       " 0,\n",
       " 0,\n",
       " 0,\n",
       " 0,\n",
       " 0,\n",
       " 0,\n",
       " 0,\n",
       " 0,\n",
       " 0,\n",
       " 0,\n",
       " 0,\n",
       " 0,\n",
       " 0,\n",
       " 0,\n",
       " 0,\n",
       " 0,\n",
       " 0,\n",
       " 0,\n",
       " 0,\n",
       " 0,\n",
       " 0,\n",
       " 0,\n",
       " 0,\n",
       " 0,\n",
       " 0,\n",
       " 0,\n",
       " 0,\n",
       " 0,\n",
       " 0,\n",
       " 0,\n",
       " 0]"
      ]
     },
     "execution_count": 608,
     "metadata": {},
     "output_type": "execute_result"
    }
   ],
   "source": [
    "t2v(\"Haaland scores hat-trick in Norway win\",L)"
   ]
  },
  {
   "cell_type": "markdown",
   "metadata": {},
   "source": [
    "#### Q.4"
   ]
  },
  {
   "cell_type": "code",
   "execution_count": 611,
   "metadata": {},
   "outputs": [],
   "source": [
    "import copy\n",
    "\n",
    "Li=L.copy()\n",
    "def MV():\n",
    "    P= ['in','A','as','of','by','to','for','but','and','the','his', 'on', 'at', 'to', 'I', 'me','he','she', 'you','it']\n",
    "    for word in Li:\n",
    "        if word in P:\n",
    "            Li.remove(word)\n",
    "    return Li \n",
    "\n",
    "#with parameter\n",
    "def MV2(l):\n",
    "    P= ['in','A','as','of','by','to','for','but','and','the','his', 'on', 'at', 'to', 'I', 'me','he','she', 'you','it']\n",
    "    for word in l:\n",
    "        if word in P:\n",
    "            l.remove(word)\n",
    "    return l "
   ]
  },
  {
   "cell_type": "code",
   "execution_count": 612,
   "metadata": {},
   "outputs": [
    {
     "name": "stdout",
     "output_type": "stream",
     "text": [
      "Taux de réduction est 95%\n"
     ]
    }
   ],
   "source": [
    "MV()\n",
    "print(\"Taux de réduction est {:.0%}\".format(len(Li)/len(L)))"
   ]
  },
  {
   "cell_type": "markdown",
   "metadata": {},
   "source": [
    "#### Q.5"
   ]
  },
  {
   "cell_type": "code",
   "execution_count": 613,
   "metadata": {},
   "outputs": [
    {
     "data": {
      "text/html": [
       "<div>\n",
       "<style scoped>\n",
       "    .dataframe tbody tr th:only-of-type {\n",
       "        vertical-align: middle;\n",
       "    }\n",
       "\n",
       "    .dataframe tbody tr th {\n",
       "        vertical-align: top;\n",
       "    }\n",
       "\n",
       "    .dataframe thead th {\n",
       "        text-align: right;\n",
       "    }\n",
       "</style>\n",
       "<table border=\"1\" class=\"dataframe\">\n",
       "  <thead>\n",
       "    <tr style=\"text-align: right;\">\n",
       "      <th></th>\n",
       "      <th>0</th>\n",
       "      <th>1</th>\n",
       "    </tr>\n",
       "  </thead>\n",
       "  <tbody>\n",
       "    <tr>\n",
       "      <th>0</th>\n",
       "      <td>Antoine Griezmann scored twice as France beat ...</td>\n",
       "      <td>sport</td>\n",
       "    </tr>\n",
       "    <tr>\n",
       "      <th>1</th>\n",
       "      <td>Haaland scores hat-trick in Norway win</td>\n",
       "      <td>sport</td>\n",
       "    </tr>\n",
       "    <tr>\n",
       "      <th>2</th>\n",
       "      <td>A comfortable win over Azerbaijan moved Morocc...</td>\n",
       "      <td>sport</td>\n",
       "    </tr>\n",
       "    <tr>\n",
       "      <th>3</th>\n",
       "      <td>World Cup qualifying has been seriously affect...</td>\n",
       "      <td>sport</td>\n",
       "    </tr>\n",
       "    <tr>\n",
       "      <th>4</th>\n",
       "      <td>Memphis Depay hat trick vs. Turkey puts Dutch ...</td>\n",
       "      <td>sport</td>\n",
       "    </tr>\n",
       "    <tr>\n",
       "      <th>5</th>\n",
       "      <td>General Elections: Turnout Reaches 75% in Moro...</td>\n",
       "      <td>politics</td>\n",
       "    </tr>\n",
       "    <tr>\n",
       "      <th>6</th>\n",
       "      <td>Guinea is in the midst of a rocky political tr...</td>\n",
       "      <td>politics</td>\n",
       "    </tr>\n",
       "    <tr>\n",
       "      <th>7</th>\n",
       "      <td>Morocco, Spain Team Up to Arrest Terror Suspec...</td>\n",
       "      <td>politics</td>\n",
       "    </tr>\n",
       "    <tr>\n",
       "      <th>8</th>\n",
       "      <td>Several countries and organizations expressed ...</td>\n",
       "      <td>politics</td>\n",
       "    </tr>\n",
       "    <tr>\n",
       "      <th>9</th>\n",
       "      <td>Personal Data Use In Moroccan Election Campaig...</td>\n",
       "      <td>politics</td>\n",
       "    </tr>\n",
       "    <tr>\n",
       "      <th>10</th>\n",
       "      <td>Royal Air Maroc Cancels Flights Between Morocc...</td>\n",
       "      <td>economy</td>\n",
       "    </tr>\n",
       "    <tr>\n",
       "      <th>11</th>\n",
       "      <td>Ministry of Industry Approves New Company to M...</td>\n",
       "      <td>economy</td>\n",
       "    </tr>\n",
       "    <tr>\n",
       "      <th>12</th>\n",
       "      <td>Branson, tech entrepreneur and founder of the ...</td>\n",
       "      <td>economy</td>\n",
       "    </tr>\n",
       "    <tr>\n",
       "      <th>13</th>\n",
       "      <td>IFC, BMCE Bank UK Team Up to Promote African T...</td>\n",
       "      <td>economy</td>\n",
       "    </tr>\n",
       "    <tr>\n",
       "      <th>14</th>\n",
       "      <td>Morocco, Stellantis Sign Amendment to Reactiva...</td>\n",
       "      <td>economy</td>\n",
       "    </tr>\n",
       "  </tbody>\n",
       "</table>\n",
       "</div>"
      ],
      "text/plain": [
       "                                                    0         1\n",
       "0   Antoine Griezmann scored twice as France beat ...     sport\n",
       "1              Haaland scores hat-trick in Norway win     sport\n",
       "2   A comfortable win over Azerbaijan moved Morocc...     sport\n",
       "3   World Cup qualifying has been seriously affect...     sport\n",
       "4   Memphis Depay hat trick vs. Turkey puts Dutch ...     sport\n",
       "5   General Elections: Turnout Reaches 75% in Moro...  politics\n",
       "6   Guinea is in the midst of a rocky political tr...  politics\n",
       "7   Morocco, Spain Team Up to Arrest Terror Suspec...  politics\n",
       "8   Several countries and organizations expressed ...  politics\n",
       "9   Personal Data Use In Moroccan Election Campaig...  politics\n",
       "10  Royal Air Maroc Cancels Flights Between Morocc...   economy\n",
       "11  Ministry of Industry Approves New Company to M...   economy\n",
       "12  Branson, tech entrepreneur and founder of the ...   economy\n",
       "13  IFC, BMCE Bank UK Team Up to Promote African T...   economy\n",
       "14  Morocco, Stellantis Sign Amendment to Reactiva...   economy"
      ]
     },
     "execution_count": 613,
     "metadata": {},
     "output_type": "execute_result"
    }
   ],
   "source": [
    "import pandas as pd\n",
    "df = pd.DataFrame(Textes)\n",
    "df"
   ]
  },
  {
   "cell_type": "code",
   "execution_count": 614,
   "metadata": {
    "scrolled": true
   },
   "outputs": [
    {
     "data": {
      "text/plain": [
       "['Royal Air Maroc Cancels Flights Between Morocco and Italy',\n",
       " 'Ministry of Industry Approves New Company to Monitor Imports',\n",
       " 'Branson, tech entrepreneur and founder of the Virgin Group, visited Dakhla after a trip to Marrakech',\n",
       " 'IFC, BMCE Bank UK Team Up to Promote African Transnational Trade',\n",
       " 'Morocco, Stellantis Sign Amendment to Reactivate Cooperation in Automotive Industry']"
      ]
     },
     "execution_count": 614,
     "metadata": {},
     "output_type": "execute_result"
    }
   ],
   "source": [
    "T1=df[0].to_list()[0:5]\n",
    "T2=df[0].to_list()[5:10]\n",
    "T3=df[0].to_list()[10:15]\n",
    "T3"
   ]
  },
  {
   "cell_type": "code",
   "execution_count": 615,
   "metadata": {},
   "outputs": [],
   "source": [
    "import itertools\n",
    "A,B,C=[],[],[]\n",
    "\n",
    "for i in range (5):\n",
    "    A.append(T1[i].split())\n",
    "    B.append(T2[i].split())\n",
    "    C.append(T3[i].split())\n",
    "    \n",
    "List1=list(itertools.chain(*A))\n",
    "List2=list(itertools.chain(*B))\n",
    "List3=list(itertools.chain(*C))"
   ]
  },
  {
   "cell_type": "code",
   "execution_count": 616,
   "metadata": {},
   "outputs": [],
   "source": [
    "Lii=L.copy()\n",
    "def ELIM(A):\n",
    "    for word in A:\n",
    "        if word in List1 and word in List2 and word in List3:\n",
    "            A.remove(word)\n",
    "    return A"
   ]
  },
  {
   "cell_type": "code",
   "execution_count": 618,
   "metadata": {},
   "outputs": [
    {
     "name": "stdout",
     "output_type": "stream",
     "text": [
      "Taux de réduction est 97%\n"
     ]
    }
   ],
   "source": [
    "ELIM(Lii)\n",
    "print(\"Taux de réduction est {:.0%}\".format(len(Lii)/len(L)))"
   ]
  },
  {
   "cell_type": "markdown",
   "metadata": {},
   "source": [
    "#### Q.6"
   ]
  },
  {
   "cell_type": "code",
   "execution_count": 619,
   "metadata": {},
   "outputs": [],
   "source": [
    "from math import sqrt\n",
    "\n",
    "def DIST(X,Y):\n",
    "    distance=0\n",
    "    for i in range(len(X)):\n",
    "        distance=distance+(X[i]-Y[i])**2        \n",
    "    return sqrt(distance)"
   ]
  },
  {
   "cell_type": "markdown",
   "metadata": {},
   "source": [
    "#### Q.7"
   ]
  },
  {
   "cell_type": "markdown",
   "metadata": {},
   "source": [
    "Afin de determiner la categorie d'un texte, on utilisera l'algorithme K-nearest-neighbors.\n",
    "On commencera par calculer la distance euclidiene entre le vecteur du texte et ceux de notre base puis en se basant sur le k (number of neighbors ), on determinera la classe de notre texte"
   ]
  },
  {
   "cell_type": "markdown",
   "metadata": {},
   "source": [
    "##### knn implementation"
   ]
  },
  {
   "cell_type": "code",
   "execution_count": 620,
   "metadata": {},
   "outputs": [],
   "source": [
    "def knn1(n,t,T):\n",
    "    DisTab=[]\n",
    "    #store distance\n",
    "    for i in range(len(T)):\n",
    "        DisTab.append([ DIST(t2v(t,L),t2v(T[i][0],L)),T[i][1]]) \n",
    "    #sort list\n",
    "    DisTab.sort()\n",
    "    return DisTab[:n]"
   ]
  },
  {
   "cell_type": "code",
   "execution_count": 621,
   "metadata": {},
   "outputs": [
    {
     "data": {
      "text/plain": [
       "[[4.795831523312719, 'economy'],\n",
       " [5.291502622129181, 'economy'],\n",
       " [5.291502622129181, 'sport'],\n",
       " [5.477225575051661, 'economy']]"
      ]
     },
     "execution_count": 621,
     "metadata": {},
     "output_type": "execute_result"
    }
   ],
   "source": [
    "test = knn1(4,\"The Minister of Economy, Finance and Administration Reform and the Governor of Bank Al-Maghrib hold a virtual meeting with the Managing Director of the IMF\",Textes)\n",
    "test"
   ]
  },
  {
   "cell_type": "markdown",
   "metadata": {},
   "source": [
    "On ajoutera maintenant une dataframe qui  groupera les categories par leur nomrbe d'apparition afin de retourner la classe majoritaire"
   ]
  },
  {
   "cell_type": "code",
   "execution_count": 622,
   "metadata": {},
   "outputs": [],
   "source": [
    "#j'ai ajouté L comme parametre pour faire passer Li(resultat du ElIM())\n",
    "def knn(n,t,T,L):\n",
    "    DisTab=[]\n",
    "    #store distance\n",
    "    for i in range(len(T)):\n",
    "        DisTab.append([ DIST(t,t2v(T[i][0],L)),T[i][1]]) \n",
    "    #sort list\n",
    "    DisTab.sort()\n",
    "    DisTab[:n]\n",
    "    \n",
    "    cat = pd.DataFrame(DisTab[:n])\n",
    "    classe = cat.groupby(cat[1]).nunique().idxmax()\n",
    "    print('la classe de ce texte est: ' + classe[0])"
   ]
  },
  {
   "cell_type": "code",
   "execution_count": 623,
   "metadata": {},
   "outputs": [
    {
     "name": "stdout",
     "output_type": "stream",
     "text": [
      "la classe de ce texte est: economy\n"
     ]
    }
   ],
   "source": [
    "test = knn(8,t2v(\"The Minister of Economy, Finance and Administration Reform and the Governor of Bank Al-Maghrib hold a virtual meeting with the Managing Director of the IMF\",L),Textes,L)\n",
    "test"
   ]
  },
  {
   "cell_type": "markdown",
   "metadata": {},
   "source": [
    "#### Q.8"
   ]
  },
  {
   "cell_type": "code",
   "execution_count": 624,
   "metadata": {},
   "outputs": [
    {
     "name": "stdout",
     "output_type": "stream",
     "text": [
      "la classe de ce texte est: sport\n"
     ]
    }
   ],
   "source": [
    "#Eliminer mots vides\n",
    "MV()\n",
    "#Eliminer classes apartenant à 3 classes\n",
    "ELIM(Li)\n",
    "texte = \"Lionel Messi surpasses Pele's goalscoring record, leads Argentina to win in World Cup qualifiers\"\n",
    "knn(2,t2v(texte,Li),Textes,Li)"
   ]
  },
  {
   "cell_type": "markdown",
   "metadata": {},
   "source": [
    "#### Q.9"
   ]
  },
  {
   "cell_type": "markdown",
   "metadata": {},
   "source": [
    "Pour ce faire, on doit utiliser un texte qui comprend des mots appartenant à P (ensemble des mots vides) et d'autres appartenant aux 3 catégories"
   ]
  },
  {
   "cell_type": "code",
   "execution_count": 631,
   "metadata": {},
   "outputs": [],
   "source": [
    "texte=\"The annual financial plan of Morocco is to Support Administrative Reform\""
   ]
  },
  {
   "cell_type": "code",
   "execution_count": 632,
   "metadata": {},
   "outputs": [
    {
     "data": {
      "text/plain": [
       "[[3.0, 'economy'],\n",
       " [3.1622776601683795, 'sport'],\n",
       " [3.3166247903554, 'economy'],\n",
       " [3.4641016151377544, 'economy'],\n",
       " [3.4641016151377544, 'politics'],\n",
       " [3.605551275463989, 'economy'],\n",
       " [3.605551275463989, 'politics']]"
      ]
     },
     "execution_count": 632,
     "metadata": {},
     "output_type": "execute_result"
    }
   ],
   "source": [
    "#en utilisant t2v\n",
    "knn1(7,texte,Textes)"
   ]
  },
  {
   "cell_type": "code",
   "execution_count": 633,
   "metadata": {},
   "outputs": [
    {
     "data": {
      "text/plain": [
       "[[2.6457513110645907, 'sport'],\n",
       " [2.8284271247461903, 'economy'],\n",
       " [2.8284271247461903, 'sport'],\n",
       " [3.0, 'economy'],\n",
       " [3.1622776601683795, 'economy']]"
      ]
     },
     "execution_count": 633,
     "metadata": {},
     "output_type": "execute_result"
    }
   ],
   "source": [
    "#en utilisant t2v avec elim, mv \n",
    "MV2(L)\n",
    "L=ELIM(L)\n",
    "knn1(5,texte,Textes)"
   ]
  },
  {
   "cell_type": "markdown",
   "metadata": {},
   "source": [
    "#### Q.10"
   ]
  },
  {
   "cell_type": "markdown",
   "metadata": {},
   "source": [
    "L'algorithme utilisé est knn (k-nearest-neighbors), un algorithme d'apprentissage supervisé et de classification de modèles qui nous aide à trouver à quelle classe appartient la nouvelle entrée (valeur de test) lorsque k voisins les plus proches sont choisis et que la distance est calculée entre eux."
   ]
  },
  {
   "cell_type": "markdown",
   "metadata": {},
   "source": [
    "##### Avantages:\n",
    "Un seul hyper paramètre k et diversité des critères de distance à choisir : \n",
    "Distance euclidienne, Distance de Minkowski\n",
    "\n",
    "##### Inconvenient:\n",
    "L'un des plus grands problèmes des K-NN est de choisir le nombre optimal de voisins k à prendre en compte lors de la classification de la nouvelle entrée de données.\n",
    "\n"
   ]
  },
  {
   "cell_type": "markdown",
   "metadata": {},
   "source": [
    "#### Fin."
   ]
  }
 ],
 "metadata": {
  "kernelspec": {
   "display_name": "Python 3",
   "language": "python",
   "name": "python3"
  },
  "language_info": {
   "codemirror_mode": {
    "name": "ipython",
    "version": 3
   },
   "file_extension": ".py",
   "mimetype": "text/x-python",
   "name": "python",
   "nbconvert_exporter": "python",
   "pygments_lexer": "ipython3",
   "version": "3.7.3"
  }
 },
 "nbformat": 4,
 "nbformat_minor": 2
}
